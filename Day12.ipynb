{
 "cells": [
  {
   "cell_type": "markdown",
   "id": "436901c6",
   "metadata": {},
   "source": [
    "- **Day 1️⃣2️⃣**: **Regular Expressions**\n",
    "    \n",
    "    🎯 **Challenge**\n",
    "    - Validate gmail addresses using regex"
   ]
  },
  {
   "cell_type": "code",
   "execution_count": null,
   "id": "fbbf5ced",
   "metadata": {},
   "outputs": [
    {
     "name": "stdout",
     "output_type": "stream",
     "text": [
      "Enter Gmail Address to validate\n",
      "\n",
      "*****Please Enter 'Done' to finish*****\n",
      "Yay! Your Email Address is valid :)\n",
      "oops ;) your Email Address is Invalid 'must be in lowercase and end with @gmail.com :)'\n",
      "Yay! Your Email Address is valid :)\n",
      "Yay! Your Email Address is valid :)\n",
      "oops ;) your Email Address is Invalid 'must be in lowercase and end with @gmail.com :)'\n",
      "Yay! Your Email Address is valid :)\n",
      "oops ;) your Email Address is Invalid 'must be in lowercase and end with @gmail.com :)'\n",
      "oops ;) your Email Address is Invalid 'must be in lowercase and end with @gmail.com :)'\n",
      "Yay! Your Email Address is valid :)\n",
      "\n",
      " Saved 5 valid Email Address to Valid_Email_Address.txt\n"
     ]
    }
   ],
   "source": [
    "import re\n",
    "\n",
    "def is_gmail_valid(email):\n",
    "\n",
    "    pattern = r'^[a-z][a-z0-9._%+-]*+@gmail\\.com$'\n",
    "\n",
    "    return bool(re.match(pattern,email))\n",
    "\n",
    "\n",
    "valid_emails = []\n",
    "\n",
    "print(\"Enter Gmail Address to validate\")\n",
    "print(\"\\n*****Please Enter 'Done' to finish*****\")\n",
    "\n",
    "while True:\n",
    "\n",
    "    email = input(\"Email: \").strip()\n",
    "    if email.lower() == \"done\":\n",
    "        break\n",
    "\n",
    "    if is_gmail_valid(email):\n",
    "\n",
    "        print(\"Yay! Your Email Address is valid :)\")\n",
    "        valid_emails.append(email)\n",
    "\n",
    "    else:\n",
    "        print(\"oops ;) your Email Address is Invalid 'must be in lowercase and end with @gmail.com :)'\")\n",
    "\n",
    "\n",
    "#saving valid email to file\n",
    "\n",
    "if valid_emails:s\n",
    "\n",
    "    with open(\"Valid_Email_Address.txt\", \"w\") as f:\n",
    "        for mail in valid_emails:\n",
    "            f.write(mail + \"\\n\")\n",
    "\n",
    "        print(f\"\\n Saved {len(valid_emails)} valid Email Address to Valid_Email_Address.txt\")\n",
    "\n",
    "else:\n",
    "\n",
    "    print(\"No Valid Email Address Entered ;( \")\n",
    "\n",
    "\n"
   ]
  },
  {
   "cell_type": "code",
   "execution_count": null,
   "id": "e4885f21",
   "metadata": {},
   "outputs": [],
   "source": []
  }
 ],
 "metadata": {
  "kernelspec": {
   "display_name": "base",
   "language": "python",
   "name": "python3"
  },
  "language_info": {
   "codemirror_mode": {
    "name": "ipython",
    "version": 3
   },
   "file_extension": ".py",
   "mimetype": "text/x-python",
   "name": "python",
   "nbconvert_exporter": "python",
   "pygments_lexer": "ipython3",
   "version": "3.12.9"
  }
 },
 "nbformat": 4,
 "nbformat_minor": 5
}
