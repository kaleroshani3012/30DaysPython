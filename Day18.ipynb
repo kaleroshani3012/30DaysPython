{
 "cells": [
  {
   "cell_type": "markdown",
   "id": "e8163f13",
   "metadata": {},
   "source": []
  },
  {
   "cell_type": "code",
   "execution_count": 17,
   "id": "3bea8f7f",
   "metadata": {},
   "outputs": [
    {
     "name": "stdout",
     "output_type": "stream",
     "text": [
      "Hi, Addition is: 90\n",
      "Hello Roshhh, Multiplication is: 4050\n"
     ]
    },
    {
     "ename": "ValueError",
     "evalue": "Attributes Name x Must Starts with 'attrs_'",
     "output_type": "error",
     "traceback": [
      "\u001b[1;31m---------------------------------------------------------------------------\u001b[0m",
      "\u001b[1;31mValueError\u001b[0m                                Traceback (most recent call last)",
      "Cell \u001b[1;32mIn[17], line 30\u001b[0m\n\u001b[0;32m     22\u001b[0m     \u001b[38;5;28mprint\u001b[39m(\u001b[38;5;124mf\u001b[39m\u001b[38;5;124m\"\u001b[39m\u001b[38;5;124mHi, Addition is: \u001b[39m\u001b[38;5;132;01m{\u001b[39;00mattrs_x\u001b[38;5;250m \u001b[39m\u001b[38;5;241m+\u001b[39m\u001b[38;5;250m \u001b[39mattrs_y\u001b[38;5;132;01m}\u001b[39;00m\u001b[38;5;124m\"\u001b[39m)\n\u001b[0;32m     23\u001b[0m \u001b[38;5;124;03m\"\"\"\u001b[39;00m\n\u001b[0;32m     24\u001b[0m \u001b[38;5;124;03mclass division(metaclass = Meta):\u001b[39;00m\n\u001b[0;32m     25\u001b[0m \u001b[38;5;124;03m    attrs_x=45\u001b[39;00m\n\u001b[0;32m     26\u001b[0m \u001b[38;5;124;03m    attrs_y=90\u001b[39;00m\n\u001b[0;32m     27\u001b[0m \u001b[38;5;124;03m    print(f\"Hello, Division is: {attrs_x / attrs_y}\")\"\"\"\u001b[39;00m\n\u001b[1;32m---> 30\u001b[0m \u001b[38;5;28;01mclass\u001b[39;00m\u001b[38;5;250m \u001b[39m\u001b[38;5;21;01mMultiplication\u001b[39;00m(metaclass \u001b[38;5;241m=\u001b[39m Meta):\n\u001b[0;32m     31\u001b[0m     x\u001b[38;5;241m=\u001b[39m\u001b[38;5;241m45\u001b[39m\n\u001b[0;32m     32\u001b[0m     y\u001b[38;5;241m=\u001b[39m\u001b[38;5;241m90\u001b[39m\n",
      "Cell \u001b[1;32mIn[17], line 15\u001b[0m, in \u001b[0;36mMeta.__new__\u001b[1;34m(cls, class_name, bases, attrs)\u001b[0m\n\u001b[0;32m     12\u001b[0m             \u001b[38;5;28;01mcontinue\u001b[39;00m\n\u001b[0;32m     14\u001b[0m     \u001b[38;5;28;01mif\u001b[39;00m \u001b[38;5;129;01mnot\u001b[39;00m attributes\u001b[38;5;241m.\u001b[39mstartswith(\u001b[38;5;124m\"\u001b[39m\u001b[38;5;124mattrs_\u001b[39m\u001b[38;5;124m\"\u001b[39m):\n\u001b[1;32m---> 15\u001b[0m             \u001b[38;5;28;01mraise\u001b[39;00m \u001b[38;5;167;01mValueError\u001b[39;00m(\u001b[38;5;124mf\u001b[39m\u001b[38;5;124m\"\u001b[39m\u001b[38;5;124mAttributes Name \u001b[39m\u001b[38;5;132;01m{\u001b[39;00mattributes\u001b[38;5;132;01m}\u001b[39;00m\u001b[38;5;124m Must Starts with \u001b[39m\u001b[38;5;124m'\u001b[39m\u001b[38;5;124mattrs_\u001b[39m\u001b[38;5;124m'\u001b[39m\u001b[38;5;124m\"\u001b[39m)\n\u001b[0;32m     17\u001b[0m \u001b[38;5;28;01mreturn\u001b[39;00m \u001b[38;5;28msuper\u001b[39m()\u001b[38;5;241m.\u001b[39m\u001b[38;5;21m__new__\u001b[39m(\u001b[38;5;28mcls\u001b[39m,class_name,bases,attrs)\n",
      "\u001b[1;31mValueError\u001b[0m: Attributes Name x Must Starts with 'attrs_'"
     ]
    }
   ],
   "source": [
    "class Meta(type):\n",
    "\n",
    "    def __new__(cls, class_name ,bases, attrs):\n",
    "\n",
    "        if not class_name[0].isupper():\n",
    "            raise ValueError(f\"Class Name {class_name} Should start with capital Letter\")\n",
    "\n",
    "        \n",
    "        for attributes in attrs:\n",
    "\n",
    "            if attributes.startswith(\"__\") and attributes.endswith(\"__\"):\n",
    "                    continue\n",
    "\n",
    "            if not attributes.startswith(\"attrs_\"):\n",
    "                    raise ValueError(f\"Attributes Name {attributes} Must Starts with 'attrs_'\")\n",
    "\n",
    "        return super().__new__(cls,class_name,bases,attrs)\n",
    "\n",
    "class Addition(metaclass = Meta):\n",
    "    attrs_x=30\n",
    "    attrs_y=60\n",
    "    print(f\"Hi, Addition is: {attrs_x + attrs_y}\")\n",
    "\"\"\"\n",
    "class division(metaclass = Meta):\n",
    "    attrs_x=45\n",
    "    attrs_y=90\n",
    "    print(f\"Hello, Division is: {attrs_x / attrs_y}\")\"\"\"\n",
    "\n",
    "\n",
    "class Multiplication(metaclass = Meta):\n",
    "    x=45\n",
    "    y=90\n",
    "    print(f\"Hello Roshhh, Multiplication is: {x*y}\")"
   ]
  },
  {
   "cell_type": "code",
   "execution_count": null,
   "id": "e42b5a2e",
   "metadata": {},
   "outputs": [],
   "source": []
  }
 ],
 "metadata": {
  "kernelspec": {
   "display_name": "base",
   "language": "python",
   "name": "python3"
  },
  "language_info": {
   "codemirror_mode": {
    "name": "ipython",
    "version": 3
   },
   "file_extension": ".py",
   "mimetype": "text/x-python",
   "name": "python",
   "nbconvert_exporter": "python",
   "pygments_lexer": "ipython3",
   "version": "3.12.9"
  }
 },
 "nbformat": 4,
 "nbformat_minor": 5
}
