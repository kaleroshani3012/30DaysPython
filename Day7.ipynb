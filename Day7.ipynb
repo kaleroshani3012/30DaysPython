{
 "cells": [
  {
   "cell_type": "markdown",
   "id": "391ffc1e",
   "metadata": {},
   "source": [
    "**🗒️ Topics**\n",
    "- Reading/writing files, handling text and CSV\n",
    "\n",
    "🎯 **Challenge**\n",
    "- Count word frequencies in a text file"
   ]
  },
  {
   "cell_type": "code",
   "execution_count": 3,
   "id": "74e9c529",
   "metadata": {},
   "outputs": [
    {
     "name": "stdout",
     "output_type": "stream",
     "text": [
      "python: 2\n",
      "a: 2\n",
      "is: 1\n",
      "popular: 1\n",
      "programming: 1\n",
      "language: 1\n",
      "can: 1\n",
      "be: 1\n",
      "used: 1\n",
      "on: 1\n"
     ]
    }
   ],
   "source": [
    "with open(\"day7.txt\", \"r\", encoding=\"utf-8\") as file:\n",
    "    text = file.read()\n",
    "\n",
    "import string\n",
    "\n",
    "# Remove punctuation and convert to lowercase\n",
    "clean_text = text.translate(str.maketrans(\"\", \"\", string.punctuation)).lower()\n",
    "\n",
    "# Split into words\n",
    "words = clean_text.split()\n",
    "\n",
    "# Count words\n",
    "word_freq = {}\n",
    "for word in words:\n",
    "    word_freq[word] = word_freq.get(word, 0) + 1\n",
    "\n",
    "# Print top 10 words\n",
    "for word, count in sorted(word_freq.items(), key=lambda x: x[1], reverse=True)[:10]:\n",
    "    print(f\"{word}: {count}\")\n"
   ]
  },
  {
   "cell_type": "code",
   "execution_count": 4,
   "id": "1aaabe01",
   "metadata": {},
   "outputs": [],
   "source": [
    "import csv\n",
    "\n",
    "with open(\"word_frequency.csv\", \"w\", newline='') as csvfile:\n",
    "    writer = csv.writer(csvfile)\n",
    "    writer.writerow([\"Word\", \"Frequency\"])\n",
    "    for word, count in word_freq.items():\n",
    "        writer.writerow([word, count])"
   ]
  },
  {
   "cell_type": "code",
   "execution_count": null,
   "id": "cf37eca1",
   "metadata": {},
   "outputs": [],
   "source": []
  }
 ],
 "metadata": {
  "kernelspec": {
   "display_name": "base",
   "language": "python",
   "name": "python3"
  },
  "language_info": {
   "codemirror_mode": {
    "name": "ipython",
    "version": 3
   },
   "file_extension": ".py",
   "mimetype": "text/x-python",
   "name": "python",
   "nbconvert_exporter": "python",
   "pygments_lexer": "ipython3",
   "version": "3.12.9"
  }
 },
 "nbformat": 4,
 "nbformat_minor": 5
}
