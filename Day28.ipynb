{
 "cells": [
  {
   "cell_type": "markdown",
   "id": "cd92c1da",
   "metadata": {},
   "source": [
    "- **Day 2️⃣8️⃣**: **Clean Code**\n",
    " \n",
    "    **🗒️ Topics**\n",
    "    -  Write better Python\n",
    "    \n",
    "    🎯 **Challenge**\n",
    "    \n",
    "     - find the faults in your code (or some opensource code), improve it by applying clean code principles and make it readable (create a PR if doing it for any opensource project)."
   ]
  },
  {
   "cell_type": "markdown",
   "id": "a1e9ecf8",
   "metadata": {},
   "source": [
    "#### 1. Meaningful Variable & Function Names"
   ]
  },
  {
   "cell_type": "code",
   "execution_count": null,
   "id": "bb4d58bf",
   "metadata": {},
   "outputs": [
    {
     "name": "stdout",
     "output_type": "stream",
     "text": [
      "15\n"
     ]
    }
   ],
   "source": [
    "#Messy Code\n",
    "\n",
    "def w(x,y):\n",
    "    return x+y\n",
    "\n",
    "x=7\n",
    "y=8\n",
    "z=w(x,y)\n",
    "print(z)"
   ]
  },
  {
   "cell_type": "code",
   "execution_count": 4,
   "id": "02aa8b70",
   "metadata": {},
   "outputs": [
    {
     "name": "stdout",
     "output_type": "stream",
     "text": [
      "20\n"
     ]
    }
   ],
   "source": [
    "#Clean Code\n",
    "\n",
    "def calculate_area(length, width):\n",
    "    \"\"\"Calculates the area of a rectangle.\"\"\"\n",
    "    return length * width\n",
    "\n",
    "length = 5\n",
    "width = 4\n",
    "print(calculate_area(length, width))"
   ]
  },
  {
   "cell_type": "markdown",
   "id": "78c02533",
   "metadata": {},
   "source": [
    "#### 2.DRY Principle (Don’t Repeat Yourself)"
   ]
  },
  {
   "cell_type": "code",
   "execution_count": null,
   "id": "759d3887",
   "metadata": {},
   "outputs": [
    {
     "name": "stdout",
     "output_type": "stream",
     "text": [
      "Name: Rohan\n",
      "Age: 23\n",
      "Country: India\n"
     ]
    }
   ],
   "source": [
    "#Messy code\n",
    "#example - 1\n",
    "\n",
    "print(\"Name: Rohan\")\n",
    "print(\"Age: 23\")\n",
    "print(\"Country: India\")"
   ]
  },
  {
   "cell_type": "code",
   "execution_count": 6,
   "id": "afc5aba9",
   "metadata": {},
   "outputs": [
    {
     "name": "stdout",
     "output_type": "stream",
     "text": [
      "Name: Rohan\n",
      "Age: 23\n",
      "Country: India\n"
     ]
    }
   ],
   "source": [
    "#Clean Code\n",
    "\n",
    "user = {\"Name\": \"Rohan\", \"Age\": 23, \"Country\": \"India\"}\n",
    "\n",
    "for key, value in user.items():\n",
    "    print(f\"{key}: {value}\")"
   ]
  },
  {
   "cell_type": "code",
   "execution_count": 22,
   "id": "d711d1f5",
   "metadata": {},
   "outputs": [
    {
     "name": "stdout",
     "output_type": "stream",
     "text": [
      "Hello, r!\n",
      "Hello, B!\n",
      "Hello, C!\n"
     ]
    }
   ],
   "source": [
    "#example 2\n",
    "\n",
    "print(\"Hello, r!\")\n",
    "print(\"Hello, B!\")\n",
    "print(\"Hello, C!\")"
   ]
  },
  {
   "cell_type": "code",
   "execution_count": 23,
   "id": "9e1e15e4",
   "metadata": {},
   "outputs": [
    {
     "name": "stdout",
     "output_type": "stream",
     "text": [
      "Hello, A!\n",
      "Hello, B!\n",
      "Hello, C!\n"
     ]
    }
   ],
   "source": [
    "def greet(name):\n",
    "    \"\"\"Greets a person by name.\"\"\"\n",
    "    print(f\"Hello, {name}!\")\n",
    "\n",
    "for person in [\"A\", \"B\", \"C\"]:\n",
    "    greet(person)\n"
   ]
  },
  {
   "cell_type": "markdown",
   "id": "9aac67e4",
   "metadata": {},
   "source": [
    "#### 3. Direct Iteration vs Indexing"
   ]
  },
  {
   "cell_type": "code",
   "execution_count": 7,
   "id": "a9d014ac",
   "metadata": {},
   "outputs": [
    {
     "name": "stdout",
     "output_type": "stream",
     "text": [
      "apple\n",
      "banana\n",
      "cherry\n"
     ]
    }
   ],
   "source": [
    "#Messy code\n",
    "\n",
    "f = [\"apple\", \"banana\", \"cherry\"]\n",
    "for i in range(len(f)):\n",
    "    print(f[i])\n"
   ]
  },
  {
   "cell_type": "code",
   "execution_count": 8,
   "id": "44d07721",
   "metadata": {},
   "outputs": [
    {
     "name": "stdout",
     "output_type": "stream",
     "text": [
      "apple\n",
      "banana\n",
      "cherry\n"
     ]
    }
   ],
   "source": [
    "#Clean code\n",
    "\n",
    "fruits = [\"apple\", \"banana\", \"cherry\"]\n",
    "for fruit in fruits:\n",
    "    print(fruit)\n"
   ]
  },
  {
   "cell_type": "markdown",
   "id": "3419cd79",
   "metadata": {},
   "source": [
    "#### 4. Boolean Simplification"
   ]
  },
  {
   "cell_type": "code",
   "execution_count": 16,
   "id": "f40ecfb8",
   "metadata": {},
   "outputs": [
    {
     "name": "stdout",
     "output_type": "stream",
     "text": [
      "True\n"
     ]
    }
   ],
   "source": [
    "#Messy code\n",
    "\n",
    "def is_even(n):\n",
    "    if n % 2 == 0:\n",
    "        return True\n",
    "    else:\n",
    "        return False\n",
    "\n",
    "n = int(input(\"enter number\"))\n",
    "print(is_even(n))"
   ]
  },
  {
   "cell_type": "code",
   "execution_count": 17,
   "id": "f833c495",
   "metadata": {},
   "outputs": [
    {
     "name": "stdout",
     "output_type": "stream",
     "text": [
      "True\n"
     ]
    }
   ],
   "source": [
    "#Clean code\n",
    "\n",
    "def is_even(number):\n",
    "    return n % 2 == 0\n",
    "\n",
    "num = int(input(\"enter number\"))\n",
    "print(is_even(num))"
   ]
  },
  {
   "cell_type": "markdown",
   "id": "c3052d07",
   "metadata": {},
   "source": [
    "#### 5: Avoid Hardcoding & Repetitive Logic"
   ]
  },
  {
   "cell_type": "code",
   "execution_count": 19,
   "id": "e0e527d9",
   "metadata": {},
   "outputs": [
    {
     "name": "stdout",
     "output_type": "stream",
     "text": [
      "Square of 2 is 4\n",
      "Square of 3 is 9\n",
      "Square of 4 is 16\n"
     ]
    }
   ],
   "source": [
    "#Messy Code\n",
    "\n",
    "print(\"Square of 2 is\", 2 ** 2)\n",
    "print(\"Square of 3 is\", 3 ** 2)\n",
    "print(\"Square of 4 is\", 4 ** 2)"
   ]
  },
  {
   "cell_type": "code",
   "execution_count": 20,
   "id": "f79dcf72",
   "metadata": {},
   "outputs": [
    {
     "name": "stdout",
     "output_type": "stream",
     "text": [
      "Square of 2 is 4\n",
      "Square of 3 is 9\n",
      "Square of 4 is 16\n"
     ]
    }
   ],
   "source": [
    "#Clean Code\n",
    "\n",
    "def print_squares(numbers):\n",
    "    for number in numbers:\n",
    "        print(f\"Square of {number} is {number ** 2}\")\n",
    "\n",
    "print_squares([2, 3, 4])\n"
   ]
  },
  {
   "cell_type": "markdown",
   "id": "7ed93a57",
   "metadata": {},
   "source": [
    "#### 6: Conditional Logic Simplified\n"
   ]
  },
  {
   "cell_type": "code",
   "execution_count": 26,
   "id": "8c690b1d",
   "metadata": {},
   "outputs": [
    {
     "name": "stdout",
     "output_type": "stream",
     "text": [
      "True\n"
     ]
    }
   ],
   "source": [
    "# Messy Code:\n",
    "\n",
    "age = 20\n",
    "if age >= 18:\n",
    "    result = True\n",
    "else:\n",
    "    result = False\n",
    "\n",
    "print(result)\n"
   ]
  },
  {
   "cell_type": "code",
   "execution_count": 27,
   "id": "74ab4367",
   "metadata": {},
   "outputs": [
    {
     "name": "stdout",
     "output_type": "stream",
     "text": [
      "True\n"
     ]
    }
   ],
   "source": [
    "age = 20\n",
    "result = age >= 18\n",
    "print(result)"
   ]
  },
  {
   "cell_type": "code",
   "execution_count": null,
   "id": "6aa2b350",
   "metadata": {},
   "outputs": [],
   "source": []
  }
 ],
 "metadata": {
  "kernelspec": {
   "display_name": "base",
   "language": "python",
   "name": "python3"
  },
  "language_info": {
   "codemirror_mode": {
    "name": "ipython",
    "version": 3
   },
   "file_extension": ".py",
   "mimetype": "text/x-python",
   "name": "python",
   "nbconvert_exporter": "python",
   "pygments_lexer": "ipython3",
   "version": "3.12.9"
  }
 },
 "nbformat": 4,
 "nbformat_minor": 5
}
