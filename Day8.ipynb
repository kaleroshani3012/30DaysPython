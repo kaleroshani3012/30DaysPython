{
 "cells": [
  {
   "cell_type": "markdown",
   "id": "738e5c58",
   "metadata": {},
   "source": [
    "- **Day 0️⃣8️⃣: Object-Oriented Programming (Part 1)**\n",
    "    \n",
    "    \n",
    "    🎯 **Challenge**\n",
    "    - Create a Car class with attributes and a display method"
   ]
  },
  {
   "cell_type": "code",
   "execution_count": 13,
   "id": "dffd32be",
   "metadata": {},
   "outputs": [
    {
     "name": "stdout",
     "output_type": "stream",
     "text": [
      "Car Information as below: \n",
      "\n",
      " Brand : Hyundai \n",
      " Model : i20 \n",
      " Year : 2021 \n",
      " Color : Blue \n",
      " Fuel Type : Petrol \n",
      " Mileage : 0.0 KM \n",
      "\n",
      " Engine On? : No\n",
      "\n",
      " Hyundai i20's Engine Started\n",
      "\n",
      " You Drove 50 KM. \n",
      " Total Mileage is now 50.0 \n",
      " \n",
      " Hyundai i20's Engine Stopped\n",
      "\n"
     ]
    }
   ],
   "source": [
    "class Car:\n",
    "\n",
    "    def __init__(self, brand : str, model : str, year : str, color : str, fuel_type : str = \"Petrol\",\n",
    "                 mileage : float =0.0):\n",
    "        \n",
    "        self.brand = brand\n",
    "        self.model = model\n",
    "        self.year = year\n",
    "        self.color = color\n",
    "        self.fuel_type = fuel_type\n",
    "        self.mileage = mileage\n",
    "\n",
    "        self.Engine_Started = False\n",
    "\n",
    "\n",
    "    def Display_Info(self) -> None:\n",
    "\n",
    "        print(\"Car Information as below: \\n\")\n",
    "        print(f\" Brand : {self.brand} \")\n",
    "        print(f\" Model : {self.model} \")\n",
    "        print(f\" Year : {self.year} \")\n",
    "        print(f\" Color : {self.color} \")\n",
    "        print(f\" Fuel Type : {self.fuel_type} \")\n",
    "        print(f\" Mileage : {self.mileage} KM \\n\")\n",
    "\n",
    "        print(f\" Engine On? : {'Yes' if self.Engine_Started else 'No'}\\n\")\n",
    "\n",
    "    def Start_Engine(self) -> None:\n",
    "\n",
    "        if not self.Engine_Started:\n",
    "            self.Engine_Started = True\n",
    "            print(f\" {self.brand} {self.model}'s Engine Started\")\n",
    "\n",
    "        else:\n",
    "            print(\"Engine is already Running.\")\n",
    "\n",
    "    def Stop_Engine(self) -> None:\n",
    "\n",
    "        if self.Engine_Started:\n",
    "            self.Engine_Started = False\n",
    "            print(f\" \\n {self.brand} {self.model}'s Engine Stopped\")\n",
    "\n",
    "        else:\n",
    "            print(\"Engine is already Off.\")\n",
    "\n",
    "    def Drive(self, distance : float) -> None:\n",
    "\n",
    "        if self.Engine_Started:\n",
    "            self.mileage += distance\n",
    "            print(f\"\\n You Drove {distance} KM. \\n Total Mileage is now {self.mileage} \")\n",
    "        \n",
    "        else:\n",
    "            print(\"Please start Engine First Before Driving.\")\n",
    "\n",
    "\n",
    "car1 = Car(\"Hyundai\", \"i20\", 2021, \"Blue\")\n",
    "\n",
    "car1.Display_Info()\n",
    "car1.Start_Engine()\n",
    "car1.Drive(50)\n",
    "car1.Stop_Engine()\n",
    "print()"
   ]
  },
  {
   "cell_type": "code",
   "execution_count": null,
   "id": "508d6776",
   "metadata": {},
   "outputs": [],
   "source": []
  }
 ],
 "metadata": {
  "kernelspec": {
   "display_name": "base",
   "language": "python",
   "name": "python3"
  },
  "language_info": {
   "codemirror_mode": {
    "name": "ipython",
    "version": 3
   },
   "file_extension": ".py",
   "mimetype": "text/x-python",
   "name": "python",
   "nbconvert_exporter": "python",
   "pygments_lexer": "ipython3",
   "version": "3.12.9"
  }
 },
 "nbformat": 4,
 "nbformat_minor": 5
}
