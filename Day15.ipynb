{
 "cells": [
  {
   "cell_type": "markdown",
   "id": "3e90cd93",
   "metadata": {},
   "source": []
  },
  {
   "cell_type": "code",
   "execution_count": 3,
   "id": "09fbe23d",
   "metadata": {},
   "outputs": [
    {
     "name": "stdout",
     "output_type": "stream",
     "text": [
      "Reading file : large_file.txt\n",
      "\n",
      " function read_file executed in  2.0021 seconds.\n"
     ]
    }
   ],
   "source": [
    "import time\n",
    "from functools import wraps\n",
    "\n",
    "def execution_time(func):\n",
    "\n",
    "    @wraps(func)\n",
    "    def wrapper(*args,**kwargs):\n",
    "\n",
    "        start_time = time.time()\n",
    "        res = func(*args, **kwargs)\n",
    "        end_time = time.time()\n",
    "        execut_time = end_time - start_time\n",
    "        print(f\"\\n function {func.__name__} executed in {execut_time: .4f} seconds.\")\n",
    "        return res\n",
    "    return wrapper\n",
    "\n",
    "\n",
    "@execution_time\n",
    "def read_file(file_name):\n",
    "\n",
    "    print(f\"Reading file : {file_name}\")\n",
    "    try:\n",
    "        with open(file_name,\"r\") as file:\n",
    "            content = file.read()\n",
    "            time.sleep(2)\n",
    "    except FileNotFoundError:\n",
    "        print(\"File Does not Exist\")\n",
    "\n",
    "read_file(\"large_file.txt\")"
   ]
  },
  {
   "cell_type": "code",
   "execution_count": null,
   "id": "5f537e91",
   "metadata": {},
   "outputs": [],
   "source": []
  }
 ],
 "metadata": {
  "kernelspec": {
   "display_name": "base",
   "language": "python",
   "name": "python3"
  },
  "language_info": {
   "codemirror_mode": {
    "name": "ipython",
    "version": 3
   },
   "file_extension": ".py",
   "mimetype": "text/x-python",
   "name": "python",
   "nbconvert_exporter": "python",
   "pygments_lexer": "ipython3",
   "version": "3.12.9"
  }
 },
 "nbformat": 4,
 "nbformat_minor": 5
}
