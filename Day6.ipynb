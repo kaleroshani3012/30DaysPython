{
 "cells": [
  {
   "cell_type": "markdown",
   "id": "dc9b34da",
   "metadata": {},
   "source": [
    "- **Day 0️⃣6️⃣: Modules and Packages**\n",
    "    \n",
    "    \n",
    "    **🗒️ Topics**\n",
    "    - Importing modules (math, random), creating custom modules\n",
    "    \n",
    "    🎯 **Challenge**\n",
    "    - Generate a random 8-character password"
   ]
  },
  {
   "cell_type": "code",
   "execution_count": 1,
   "id": "d0d3cfcf",
   "metadata": {},
   "outputs": [
    {
     "name": "stdout",
     "output_type": "stream",
     "text": [
      "%E*K3jQM\n"
     ]
    }
   ],
   "source": [
    "import string\n",
    "import random\n",
    "\n",
    "def generate_pass(length=8):\n",
    "    if length<4:\n",
    "        raise ValueError (\"Enter remaining 4 characters\")\n",
    "\n",
    "    upper = random.choice(string.ascii_uppercase)\n",
    "    lower = random.choice(string.ascii_lowercase)\n",
    "    digit = random.choice(string.digits)\n",
    "    special = random.choice(string.punctuation)\n",
    "\n",
    "    remain = length-4\n",
    "    char = string.ascii_letters + string.digits + string.punctuation\n",
    "    remain_char = [random.choice(char) for _ in range(remain)]\n",
    "\n",
    "    password = list(upper+lower+digit+special + \"\".join(remain_char))\n",
    "    random.shuffle(password)\n",
    "\n",
    "    return \"\".join(password)\n",
    "\n",
    "print(generate_pass())\n"
   ]
  },
  {
   "cell_type": "markdown",
   "id": "c7658f08",
   "metadata": {},
   "source": []
  }
 ],
 "metadata": {
  "kernelspec": {
   "display_name": "base",
   "language": "python",
   "name": "python3"
  },
  "language_info": {
   "codemirror_mode": {
    "name": "ipython",
    "version": 3
   },
   "file_extension": ".py",
   "mimetype": "text/x-python",
   "name": "python",
   "nbconvert_exporter": "python",
   "pygments_lexer": "ipython3",
   "version": "3.12.9"
  }
 },
 "nbformat": 4,
 "nbformat_minor": 5
}
