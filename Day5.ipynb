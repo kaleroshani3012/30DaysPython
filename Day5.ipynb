{
 "cells": [
  {
   "cell_type": "markdown",
   "id": "1886a398",
   "metadata": {},
   "source": [
    "### Day 0️⃣5️⃣: Functions\n",
    "\n",
    "🗒️ Topics\n",
    "- Defining functions, parameters, return values, lambda functions\n",
    "\n",
    "🎯 Challenge\n",
    "- Write a function that computes the sum and average of a list of numbers"
   ]
  },
  {
   "cell_type": "code",
   "execution_count": 5,
   "id": "7809f962",
   "metadata": {},
   "outputs": [
    {
     "name": "stdout",
     "output_type": "stream",
     "text": [
      "total and average is: :  (15, 3.0)\n"
     ]
    }
   ],
   "source": [
    "def sum_avg (numbers):\n",
    "    total = sum(numbers)\n",
    "    avg = total / len(numbers)\n",
    "\n",
    "    return total, avg\n",
    "\n",
    "list_num =[1,2,3,4,5]\n",
    "total_avg=sum_avg(list_num)\n",
    "print(\"total and average is: : \",total_avg)"
   ]
  },
  {
   "cell_type": "code",
   "execution_count": null,
   "id": "95eb9fed",
   "metadata": {},
   "outputs": [
    {
     "name": "stdout",
     "output_type": "stream",
     "text": [
      "Total is:  15 \n",
      "Average is:  3.0\n"
     ]
    }
   ],
   "source": [
    "# Method 2 to solve same challenge\n",
    "\n",
    "list_num =[1,2,3,4,5]\n",
    "total =0\n",
    "for i in list_num:\n",
    "\n",
    "    total = total + i\n",
    "    avg = total/len(list_num)\n",
    "\n",
    "print(\"Total is: \",total,\"\\nAverage is: \",avg)"
   ]
  },
  {
   "cell_type": "code",
   "execution_count": 8,
   "id": "425f3451",
   "metadata": {},
   "outputs": [
    {
     "name": "stdout",
     "output_type": "stream",
     "text": [
      "Total is:  15 \n",
      "Average is:  3.0\n"
     ]
    }
   ],
   "source": [
    "# Method 3: Using separate functions (including a lambda for average)\n",
    "\n",
    "def list_sum(numbers):\n",
    "\n",
    "    return sum(numbers)\n",
    "\n",
    "list_avg = lambda numbers: sum(numbers) / len(numbers) if numbers else 0\n",
    "\n",
    "list_num = [1,2,3,4,5]\n",
    "\n",
    "total = list_sum(list_num)\n",
    "average = list_avg(list_num)\n",
    "\n",
    "print(\"Total is: \",total,\"\\nAverage is: \",average)"
   ]
  },
  {
   "cell_type": "code",
   "execution_count": 11,
   "id": "f47030ab",
   "metadata": {},
   "outputs": [
    {
     "name": "stdout",
     "output_type": "stream",
     "text": [
      "Total is:  15 \n",
      "Average is:  3.0\n"
     ]
    }
   ],
   "source": [
    "# Method 4: using map and reduce functions\n",
    "from functools import reduce\n",
    "\n",
    "list_num = [1,2,3,4,5]\n",
    "\n",
    "numbers = list(map(int,list_num))\n",
    "\n",
    "total_sum = reduce(lambda x,y : x+y, numbers)\n",
    "\n",
    "total_avg = total_sum / len(numbers)\n",
    "\n",
    "print(\"Total is: \",total_sum,\"\\nAverage is: \",total_avg)"
   ]
  },
  {
   "cell_type": "code",
   "execution_count": null,
   "id": "b7c1a364",
   "metadata": {},
   "outputs": [],
   "source": []
  }
 ],
 "metadata": {
  "kernelspec": {
   "display_name": "base",
   "language": "python",
   "name": "python3"
  },
  "language_info": {
   "codemirror_mode": {
    "name": "ipython",
    "version": 3
   },
   "file_extension": ".py",
   "mimetype": "text/x-python",
   "name": "python",
   "nbconvert_exporter": "python",
   "pygments_lexer": "ipython3",
   "version": "3.12.9"
  }
 },
 "nbformat": 4,
 "nbformat_minor": 5
}
