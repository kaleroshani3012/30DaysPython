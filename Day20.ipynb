{
 "cells": [
  {
   "cell_type": "markdown",
   "id": "bea002c2",
   "metadata": {},
   "source": [
    "- **Day 2️⃣0️⃣**: **Networking with Python**\n",
    "    \n",
    "    **🗒️ Topics**\n",
    "    - Sockets, HTTP requests\n",
    "    \n",
    "    🎯 **Challenge**\n",
    "    -  Fetch and display a webpage’s content"
   ]
  },
  {
   "cell_type": "code",
   "execution_count": 8,
   "id": "1fece5b6",
   "metadata": {},
   "outputs": [
    {
     "name": "stdout",
     "output_type": "stream",
     "text": [
      "webpage fetched succesfully\n",
      "<!DOCTYPE html>\n",
      "<!--[if IE 7]>\n",
      "<html class=\"ie ie7\" lang=\"en-US\" prefix=\"og: http://ogp.me/ns#\">\n",
      "<![endif]-->\n",
      "<!--[if IE 8]>\n",
      "<html class=\"ie ie8\" lang=\"en-US\" prefix=\"og: http://ogp.me/ns#\">\n",
      "<![endif]-->\n",
      "<!--[if !(IE 7) | !(IE 8)  ]><!-->\n",
      "<html lang=\"en-US\">\n",
      "<head>\n",
      "<title>Python Network Programming</title>\n",
      "<meta charset=\"utf-8\">\n",
      "<meta http-equiv=\"X-UA-Compatible\" content=\"IE=edge\">\n",
      "<meta name=\"viewport\" content=\"viewport-fit=cover, width=device-width, initial-scale=1.0, maximum-scale=3.0, user-scalable=yes\">\n",
      "<meta name=\"keywords\" content=\"Python, network programming, socket programming, client-server architecture, networking protocols, Python networking, Python sockets\">\n",
      "<meta name=\"description\" content=\"Python Network Programming - Explore the essential concepts of Python network programming, including socket programming, client-server architecture, and networking protocols.\">\n",
      "<!-- Open Graph Meta Tags for Social Sharing -->\n",
      "<meta property=\"og:type\" content=\"article\">\n",
      "<meta property=\"\n"
     ]
    }
   ],
   "source": [
    "import requests\n",
    "\n",
    "url = \"https://www.tutorialspoint.com/python/python_network_programming.htm\"\n",
    "\n",
    "try:\n",
    "    response= requests.get(url)\n",
    "\n",
    "    if response.status_code == 200:\n",
    "\n",
    "        print(\"webpage fetched succesfully\")\n",
    "        print(response.text[:1000])\n",
    "    \n",
    "    else:\n",
    "\n",
    "        print(f\"failed to fecth the page. Status code :{response.status_code}\")\n",
    "\n",
    "except requests.exceptions.RequestException as e:\n",
    "    print(f\"Error Occured: {e}\")\n"
   ]
  },
  {
   "cell_type": "code",
   "execution_count": 6,
   "id": "7855a93d",
   "metadata": {},
   "outputs": [
    {
     "name": "stdout",
     "output_type": "stream",
     "text": [
      "Html Response\n",
      "\n",
      "HTTP/1.1 301 Moved Permanently\n",
      "Server: CloudFront\n",
      "Date: Fri, 20 Jun 2025 17:43:46 GMT\n",
      "Content-Type: text/html\n",
      "Content-Length: 167\n",
      "Connection: close\n",
      "Location: https://www.geeksforgeeks.org/python-network-programming/\n",
      "X-Cache: Redirect from cloudfront\n",
      "Via: 1.1 98d0559864f73df6f6a82beaacdff652.cloudfront.net (CloudFront)\n",
      "X-Amz-Cf-Pop: BOM78-P9\n",
      "X-Amz-Cf-Id: y6Z4plkKUZKWG-YcBkPEzqut3STa8dx-9RPvjTDCttx_b8edI2YoZg==\n",
      "\n",
      "<html>\n",
      "<head><title>301 Moved Permanently</title></head>\n",
      "<body>\n",
      "<center><h1>301 Moved Permanently</h1></center>\n",
      "<hr><center>CloudFront</center>\n",
      "</body>\n",
      "</html>\n",
      "\n"
     ]
    }
   ],
   "source": [
    "import socket \n",
    "\n",
    "host = \"www.geeksforgeeks.org\"\n",
    "port = 80\n",
    "\n",
    "c_socket = socket.socket(socket.AF_INET, socket.SOCK_STREAM)\n",
    "c_socket.connect((host,port))\n",
    "\n",
    "request = f\"GET /python-network-programming/ HTTP/1.1\\r\\nHost: {host}\\r\\nConnection: close\\r\\n\\r\\n\"\n",
    "c_socket.send(request.encode())\n",
    "\n",
    "response= c_socket.recv(4096)\n",
    "print(\"Html Response\\n\")\n",
    "print(response.decode(errors='ignore')[:1000])\n",
    "\n",
    "c_socket.close()"
   ]
  },
  {
   "cell_type": "code",
   "execution_count": null,
   "id": "e42d0c47",
   "metadata": {},
   "outputs": [],
   "source": []
  }
 ],
 "metadata": {
  "kernelspec": {
   "display_name": "base",
   "language": "python",
   "name": "python3"
  },
  "language_info": {
   "codemirror_mode": {
    "name": "ipython",
    "version": 3
   },
   "file_extension": ".py",
   "mimetype": "text/x-python",
   "name": "python",
   "nbconvert_exporter": "python",
   "pygments_lexer": "ipython3",
   "version": "3.12.9"
  }
 },
 "nbformat": 4,
 "nbformat_minor": 5
}
