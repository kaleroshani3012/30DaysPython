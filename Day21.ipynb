{
 "cells": [
  {
   "cell_type": "markdown",
   "id": "363c91da",
   "metadata": {},
   "source": [
    "- **Day 2️⃣1️⃣**: **Web Scraping**\n",
    "     \n",
    "    **🗒️ Topics**\n",
    "    - requests, BeautifulSoup\n",
    "    \n",
    "    🎯 **Challenge**\n",
    "    -  Scrape headlines from a news site"
   ]
  },
  {
   "cell_type": "code",
   "execution_count": 9,
   "id": "76f13b97",
   "metadata": {},
   "outputs": [
    {
     "name": "stdout",
     "output_type": "stream",
     "text": [
      "Extracted Headlines\n",
      "1. Committed To Closer Ties With India, Says Justin Trudeau Amid Row\n",
      "2. In Avoiding Repeat Of Telangana, BJP Pays Price In Tamil Nadu\n",
      "3. Man Complains Of Stomach Pain For Years, Doctors Find This Inside His Body\n",
      "4. \"They Can Speak For...\": US On India's Response On Canada's Allegations\n",
      "5. Trending News\n",
      "Headline Saved to: 'ndtv_headlines.txt' file\n"
     ]
    }
   ],
   "source": [
    "import requests\n",
    "from bs4 import BeautifulSoup\n",
    "import csv\n",
    "\n",
    "url = \"https://www.ndtv.com/latest\"\n",
    "response = requests.get(url)\n",
    "\n",
    "soup = BeautifulSoup(response.text, \"html.parser\")\n",
    "\n",
    "all_h3 = soup.find_all('h3')\n",
    "\n",
    "top_headlines = []\n",
    "for tag in all_h3:\n",
    "    text = tag.get_text(strip=True)\n",
    "    if text and text not in top_headlines:\n",
    "        top_headlines.append(text)\n",
    "\n",
    "print(\"Extracted Headlines\")\n",
    "for i, headlines in enumerate(top_headlines[:10],1):\n",
    "    print(f\"{i}. {headlines}\")\n",
    "\n",
    "with open('ndtv_headlines.txt', 'w', encoding='utf-8') as txt_file:\n",
    "    for i, line in enumerate(top_headlines[:10], 1):\n",
    "        txt_file.write(f\"{i}. {line}\\n\")\n",
    "\n",
    "\n",
    "with open('ndtv_headlines.csv','w',newline='', encoding ='utf-8') as csv_file:\n",
    "    writer = csv.writer(csv_file)\n",
    "    writer.writerow(['Sr. No', 'Headline'])\n",
    "    for i, line in enumerate(top_headlines[:10],1):\n",
    "        writer.writerow([i,line])\n",
    "\n",
    "print(\"Headline Saved to: 'ndtv_headlines.txt' file\")\n",
    "\n"
   ]
  },
  {
   "cell_type": "code",
   "execution_count": null,
   "id": "31c91f36",
   "metadata": {},
   "outputs": [],
   "source": []
  }
 ],
 "metadata": {
  "kernelspec": {
   "display_name": "base",
   "language": "python",
   "name": "python3"
  },
  "language_info": {
   "codemirror_mode": {
    "name": "ipython",
    "version": 3
   },
   "file_extension": ".py",
   "mimetype": "text/x-python",
   "name": "python",
   "nbconvert_exporter": "python",
   "pygments_lexer": "ipython3",
   "version": "3.12.9"
  }
 },
 "nbformat": 4,
 "nbformat_minor": 5
}
