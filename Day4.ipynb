{
 "cells": [
  {
   "cell_type": "markdown",
   "id": "d4bee75f",
   "metadata": {},
   "source": [
    "### Day 0️⃣4️⃣: Control Structures\n",
    "    \n",
    "    \n",
    "🎯 **Challenge**\n",
    "   - Check if a user-entered number is prime"
   ]
  },
  {
   "cell_type": "code",
   "execution_count": 13,
   "id": "a9cde383",
   "metadata": {},
   "outputs": [
    {
     "name": "stdout",
     "output_type": "stream",
     "text": [
      "21:  is not Prime Number\n"
     ]
    }
   ],
   "source": [
    "#To check wheather number is prime or not\n",
    "#method 1 : using user input and taking single value\n",
    "\n",
    "Num = int(input(\"Enter Number: \"))\n",
    "\n",
    "count = 0\n",
    "\n",
    "if Num>1:\n",
    "\n",
    "    for i in range (1,Num+1):\n",
    "\n",
    "        if(Num%i==0):\n",
    "            count+=1\n",
    "\n",
    "    if(count==2):\n",
    "        print(f\"{Num}:  is Prime Number\")\n",
    "\n",
    "    else:\n",
    "        print(f\"{Num}:  is not Prime Number\")\n",
    "\n",
    "else:\n",
    "    print(\"Please Enter Positive Number\")\n",
    "\n"
   ]
  },
  {
   "cell_type": "code",
   "execution_count": 19,
   "id": "5b0fbab0",
   "metadata": {},
   "outputs": [
    {
     "name": "stdout",
     "output_type": "stream",
     "text": [
      "23 29 31 37 41 43 47 53 59 61 67 71 73 79 83 89 97 "
     ]
    }
   ],
   "source": [
    "# Method 2: taking start and end number from user and then print prime number btween that\n",
    "\n",
    "start = int(input(\"Enter starting number: \"))\n",
    "end = int(input(\"Enter Ending Number: \"))\n",
    "\n",
    "for i in range(start,end+1):\n",
    "\n",
    "    if i > 1:\n",
    "        flag =0\n",
    "\n",
    "        for j in range(2,i):\n",
    "\n",
    "            if(i%j==0):\n",
    "                flag=1\n",
    "                break\n",
    "\n",
    "        if(flag==0):\n",
    "            print(i, end=\" \")\n",
    "           \n"
   ]
  },
  {
   "cell_type": "code",
   "execution_count": null,
   "id": "dc98a57d",
   "metadata": {},
   "outputs": [],
   "source": []
  }
 ],
 "metadata": {
  "kernelspec": {
   "display_name": "base",
   "language": "python",
   "name": "python3"
  },
  "language_info": {
   "codemirror_mode": {
    "name": "ipython",
    "version": 3
   },
   "file_extension": ".py",
   "mimetype": "text/x-python",
   "name": "python",
   "nbconvert_exporter": "python",
   "pygments_lexer": "ipython3",
   "version": "3.12.9"
  }
 },
 "nbformat": 4,
 "nbformat_minor": 5
}
