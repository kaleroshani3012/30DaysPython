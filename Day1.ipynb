{
 "cells": [
  {
   "cell_type": "markdown",
   "id": "ad67620d",
   "metadata": {},
   "source": [
    "### Day 0️⃣1️⃣: Introduction to Python\n",
    "    \n",
    "🗒️ Topics:\n",
    "\n",
    "- Python overview, installation, IDE setup (e.g., VSCode)\n",
    "- Basic syntax"
   ]
  },
  {
   "cell_type": "markdown",
   "id": "44395642",
   "metadata": {},
   "source": [
    "#### Syntax\n",
    "Syntax refers to the set of rules that defines the combinations of symbols that are considered to be correctly structured programs in a language. In simpler terms, syntax is about the correct arrangement of words and symbols in a code.\n",
    "#### Semantics\n",
    "Semantics refers to the meaning or the interpretation of the symbols, characters, and commands in a language. It is about what the code is supposed to do when it runs."
   ]
  },
  {
   "cell_type": "markdown",
   "id": "f7eda917",
   "metadata": {},
   "source": [
    "## Basic Syntax Rules In Python"
   ]
  },
  {
   "cell_type": "markdown",
   "id": "f3e1608f",
   "metadata": {},
   "source": [
    "#### 1. Case sensitivity\n",
    "- Python is case sensitive"
   ]
  },
  {
   "cell_type": "code",
   "execution_count": null,
   "id": "7eb94f4b",
   "metadata": {},
   "outputs": [
    {
     "name": "stdout",
     "output_type": "stream",
     "text": [
      "Roshani\n",
      "Kale\n"
     ]
    }
   ],
   "source": [
    "name = \"Roshani\"\n",
    "Name = \"Kale\"\n",
    "print(name)\n",
    "print(Name)\n",
    "\n",
    "# even though meaning of two variables is same but python considered it as different because of case sensitivity"
   ]
  },
  {
   "cell_type": "markdown",
   "id": "02c5487d",
   "metadata": {},
   "source": [
    "#### 2. Indentation\n",
    "- Indentation in Python is used to define the structure and hierarchy of the code.\n",
    "- Unlike many other programming languages that use braces {} to delimit blocks of code, Python uses indentation to \n",
    "determine the grouping of statements. This means that all the statements within a block must be indented at the same level."
   ]
  },
  {
   "cell_type": "code",
   "execution_count": 5,
   "id": "6545fa3f",
   "metadata": {},
   "outputs": [
    {
     "name": "stdout",
     "output_type": "stream",
     "text": [
      "Eligible\n"
     ]
    }
   ],
   "source": [
    "#python uses indentation to define block of code\n",
    "#consistent use of spaces(commenly 4) or tab is required\n",
    "\n",
    "age = 30\n",
    "if age>18:\n",
    "    print(\"Eligible\")\n",
    "else:\n",
    "    print(\"not Eligible\")"
   ]
  },
  {
   "cell_type": "markdown",
   "id": "5b999b06",
   "metadata": {},
   "source": [
    "#### 3. Comments \n",
    "- Python has 2 types to comment \n",
    "- 1. single line comment\n",
    "- 2. multiline comment\n",
    "- .ipynb file not supported multiline comment but .py file does\n"
   ]
  },
  {
   "cell_type": "code",
   "execution_count": 6,
   "id": "6ca06510",
   "metadata": {},
   "outputs": [
    {
     "data": {
      "text/plain": [
       "' this is multi line\\ncomment '"
      ]
     },
     "execution_count": 6,
     "metadata": {},
     "output_type": "execute_result"
    }
   ],
   "source": [
    "# this is single line comment\n",
    "## this is single line comment\n",
    "\"\"\" this is multi line\n",
    "comment \"\"\""
   ]
  },
  {
   "cell_type": "markdown",
   "id": "a360bea2",
   "metadata": {},
   "source": [
    "#### 4. Line Continuation\n",
    "- Use a backslash (\\) to continue a statement to the next line"
   ]
  },
  {
   "cell_type": "code",
   "execution_count": 8,
   "id": "4ed2c307",
   "metadata": {},
   "outputs": [
    {
     "name": "stdout",
     "output_type": "stream",
     "text": [
      "31\n"
     ]
    }
   ],
   "source": [
    "total = 1+2+4+5+6+7+\\\n",
    "6+0\n",
    "print(total)"
   ]
  },
  {
   "cell_type": "markdown",
   "id": "bb3cd10c",
   "metadata": {},
   "source": [
    "#### 5. Multiple Statement on single Line\n",
    "- we can declare multiple statement in a single line using \";\""
   ]
  },
  {
   "cell_type": "code",
   "execution_count": 10,
   "id": "4995f68d",
   "metadata": {},
   "outputs": [
    {
     "name": "stdout",
     "output_type": "stream",
     "text": [
      "10\n"
     ]
    }
   ],
   "source": [
    "x=5;y=5;z=x+y\n",
    "print(z)"
   ]
  },
  {
   "cell_type": "markdown",
   "id": "6acf290d",
   "metadata": {},
   "source": [
    "## Semantics"
   ]
  },
  {
   "cell_type": "markdown",
   "id": "3d54e3dd",
   "metadata": {},
   "source": [
    "#### 1. Variable Assignment"
   ]
  },
  {
   "cell_type": "code",
   "execution_count": null,
   "id": "19dceb7d",
   "metadata": {},
   "outputs": [
    {
     "name": "stdout",
     "output_type": "stream",
     "text": [
      "32 roshani\n"
     ]
    }
   ],
   "source": [
    "#in other programming lanuage we need to declare type of variable \n",
    "#in python kernal automatically understand type of variable during runtime\n",
    "age = 32 #integer\n",
    "name = \"roshani\" #string\n",
    "print(age, name)"
   ]
  },
  {
   "cell_type": "markdown",
   "id": "b4c4074c",
   "metadata": {},
   "source": [
    "##### 2. Type Inference\n",
    "- python automatically understand type during runtime"
   ]
  },
  {
   "cell_type": "code",
   "execution_count": 17,
   "id": "c6d21ddd",
   "metadata": {},
   "outputs": [
    {
     "name": "stdout",
     "output_type": "stream",
     "text": [
      "<class 'int'>\n",
      "<class 'str'>\n"
     ]
    }
   ],
   "source": [
    "type(age)\n",
    "type(name)\n",
    "var = 10\n",
    "print(type(var))\n",
    "var = \"rosh\"\n",
    "print(type(var))"
   ]
  },
  {
   "cell_type": "markdown",
   "id": "93518354",
   "metadata": {},
   "source": [
    "## Erros"
   ]
  },
  {
   "cell_type": "code",
   "execution_count": 19,
   "id": "5f50d707",
   "metadata": {},
   "outputs": [
    {
     "ename": "IndentationError",
     "evalue": "expected an indented block after 'if' statement on line 3 (4012152788.py, line 4)",
     "output_type": "error",
     "traceback": [
      "  \u001b[36mCell\u001b[39m\u001b[36m \u001b[39m\u001b[32mIn[19]\u001b[39m\u001b[32m, line 4\u001b[39m\n\u001b[31m    \u001b[39m\u001b[31mprint(age)\u001b[39m\n    ^\n\u001b[31mIndentationError\u001b[39m\u001b[31m:\u001b[39m expected an indented block after 'if' statement on line 3\n"
     ]
    }
   ],
   "source": [
    "#what happend if we dont follow indentation rules\n",
    "age =20\n",
    "if age>18:\n",
    "print(age)"
   ]
  },
  {
   "cell_type": "code",
   "execution_count": 20,
   "id": "033706b9",
   "metadata": {},
   "outputs": [
    {
     "ename": "NameError",
     "evalue": "name 'b' is not defined",
     "output_type": "error",
     "traceback": [
      "\u001b[31m---------------------------------------------------------------------------\u001b[39m",
      "\u001b[31mNameError\u001b[39m                                 Traceback (most recent call last)",
      "\u001b[36mCell\u001b[39m\u001b[36m \u001b[39m\u001b[32mIn[20]\u001b[39m\u001b[32m, line 1\u001b[39m\n\u001b[32m----> \u001b[39m\u001b[32m1\u001b[39m a=b\n",
      "\u001b[31mNameError\u001b[39m: name 'b' is not defined"
     ]
    }
   ],
   "source": [
    "a=b"
   ]
  },
  {
   "cell_type": "code",
   "execution_count": 21,
   "id": "afb59eb1",
   "metadata": {},
   "outputs": [
    {
     "name": "stdout",
     "output_type": "stream",
     "text": [
      "This is correct Indentation\n",
      "this will print\n",
      "this will print outside if statement\n"
     ]
    }
   ],
   "source": [
    "#code example of indentation\n",
    "if True:\n",
    "    print(\"This is correct Indentation\")\n",
    "    if False:\n",
    "        print(\"Not gonna print\")\n",
    "    print(\"this will print\")\n",
    "print(\"this will print outside if statement\")"
   ]
  },
  {
   "cell_type": "markdown",
   "id": "81cff8e1",
   "metadata": {},
   "source": [
    "\n",
    "#### 🎯 Challenge\n",
    "- Write a program that prints \"Hello, World!\" followed by your name"
   ]
  },
  {
   "cell_type": "code",
   "execution_count": 22,
   "id": "eb3a36c7",
   "metadata": {},
   "outputs": [
    {
     "name": "stdout",
     "output_type": "stream",
     "text": [
      "Hello Word!\n",
      "Hello World, Hi Roshani Kale here\n",
      "Hello Roshhhhh\n"
     ]
    }
   ],
   "source": [
    "print(\"Hello Word!\")\n",
    "print(\"Hello World, Hi Roshani Kale here\")\n",
    "name = input(\"Enter your Name \")\n",
    "\n",
    "print(\"Hello \" + name)"
   ]
  },
  {
   "cell_type": "code",
   "execution_count": null,
   "id": "480eb09d",
   "metadata": {},
   "outputs": [],
   "source": []
  }
 ],
 "metadata": {
  "kernelspec": {
   "display_name": "Python 3",
   "language": "python",
   "name": "python3"
  },
  "language_info": {
   "codemirror_mode": {
    "name": "ipython",
    "version": 3
   },
   "file_extension": ".py",
   "mimetype": "text/x-python",
   "name": "python",
   "nbconvert_exporter": "python",
   "pygments_lexer": "ipython3",
   "version": "3.12.9"
  }
 },
 "nbformat": 4,
 "nbformat_minor": 5
}
