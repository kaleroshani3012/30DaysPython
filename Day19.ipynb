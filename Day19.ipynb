{
 "cells": [
  {
   "cell_type": "markdown",
   "id": "643c2f08",
   "metadata": {},
   "source": [
    "- **Day 1️⃣9️⃣**: **Multithreading and Multiprocessing**\n",
    "    \n",
    "    \n",
    "    **🗒️ Topics**\n",
    "    -   threading, multiprocessing, concurrency"
   ]
  },
  {
   "cell_type": "code",
   "execution_count": 4,
   "id": "f4286509",
   "metadata": {},
   "outputs": [
    {
     "name": "stdout",
     "output_type": "stream",
     "text": [
      "Downloading File\n",
      "Downloading File\n",
      "Downloading File\n",
      "\n",
      "Download file-example_PDF_1MB.pdf\n",
      "\n",
      "Download file_example_XLS_10.xls\n",
      "\n",
      "Download file_example_JSON_1kb.json\n",
      "\n",
      "Hurrey, All Downloads Completed\n"
     ]
    }
   ],
   "source": [
    "import threading\n",
    "import requests\n",
    "\n",
    "file_urls = [\n",
    "\"https://file-examples.com/wp-content/uploads/2017/10/file-example_PDF_1MB.pdf\",\n",
    "\"https://file-examples.com/wp-content/uploads/2017/02/file_example_XLS_10.xls\",\n",
    "\"https://file-examples.com/wp-content/uploads/2017/02/file_example_JSON_1kb.json\"\n",
    "]\n",
    "\n",
    "def download_file(url):\n",
    "\n",
    "    try:\n",
    "        filename = url.split(\"/\")[-1]\n",
    "        print(\"Downloading File\")\n",
    "\n",
    "        response = requests.get(url)\n",
    "        with open(filename, \"wb\") as file:\n",
    "            file.write(response.content)\n",
    "\n",
    "        print(f\"\\nDownload {filename}\")\n",
    "    except Exception as e:\n",
    "        print(f\"Failed to download {url} : {e}\")\n",
    "\n",
    "threads =[]\n",
    "for url in file_urls:\n",
    "    thread = threading.Thread(target = download_file, args = (url,))\n",
    "    thread.start()\n",
    "    threads.append(thread)\n",
    "\n",
    "for t in threads:\n",
    "    t.join()\n",
    "\n",
    "print(\"\\nHurrey, All Downloads Completed\")"
   ]
  },
  {
   "cell_type": "code",
   "execution_count": null,
   "id": "a58962b2",
   "metadata": {},
   "outputs": [],
   "source": []
  }
 ],
 "metadata": {
  "kernelspec": {
   "display_name": "base",
   "language": "python",
   "name": "python3"
  },
  "language_info": {
   "codemirror_mode": {
    "name": "ipython",
    "version": 3
   },
   "file_extension": ".py",
   "mimetype": "text/x-python",
   "name": "python",
   "nbconvert_exporter": "python",
   "pygments_lexer": "ipython3",
   "version": "3.12.9"
  }
 },
 "nbformat": 4,
 "nbformat_minor": 5
}
