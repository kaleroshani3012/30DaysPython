{
 "cells": [
  {
   "cell_type": "markdown",
   "id": "c2296272",
   "metadata": {},
   "source": []
  },
  {
   "cell_type": "code",
   "execution_count": 6,
   "id": "a6fbd5d5",
   "metadata": {},
   "outputs": [],
   "source": [
    "import datetime\n",
    "\n",
    "class SafeFileHandler:\n",
    "    def __init__(self, filename, mode, suppress_errors=False):\n",
    "        self.filename = filename\n",
    "        self.mode = mode\n",
    "        self.suppress_errors = suppress_errors\n",
    "        self.file = None\n",
    "\n",
    "    def __enter__(self):\n",
    "        print(f\"[{self.timestamp()}] Opening file '{self.filename}' in '{self.mode}' mode.\")\n",
    "        \n",
    "        if 'r' in self.mode:\n",
    "            print(f\"[{self.timestamp()}] Mode: Reading\")\n",
    "        elif 'w' in self.mode:\n",
    "            print(f\"[{self.timestamp()}] Mode: Writing (will overwrite if file exists)\")\n",
    "        elif 'a' in self.mode:\n",
    "            print(f\"[{self.timestamp()}] Mode: Appending to file\")\n",
    "        elif '+' in self.mode:\n",
    "            print(f\"[{self.timestamp()}] Mode: Reading and Writing\")\n",
    "\n",
    "        self.file = open(self.filename, self.mode)\n",
    "        return self.file\n",
    "\n",
    "    def __exit__(self, exc_type, exc_val, exc_tb):\n",
    "        if self.file:\n",
    "            self.file.close()\n",
    "            print(f\"[{self.timestamp()}] Closed file '{self.filename}'.\")\n",
    "\n",
    "        if exc_type:\n",
    "            print(f\"[{self.timestamp()}] An error occurred: {exc_val}\")\n",
    "            return self.suppress_errors\n",
    "\n",
    "    def timestamp(self):\n",
    "        return datetime.datetime.now().strftime(\"%Y-%m-%d %H:%M:%S\")\n"
   ]
  },
  {
   "cell_type": "code",
   "execution_count": 7,
   "id": "88fc1329",
   "metadata": {},
   "outputs": [
    {
     "name": "stdout",
     "output_type": "stream",
     "text": [
      "[2025-06-17 19:20:16] Opening file 'logfile.txt' in 'w' mode.\n",
      "[2025-06-17 19:20:16] Mode: Writing (will overwrite if file exists)\n",
      "[2025-06-17 19:20:16] Closed file 'logfile.txt'.\n"
     ]
    }
   ],
   "source": [
    "with SafeFileHandler(\"logfile.txt\", \"w\") as f:\n",
    "    f.write(\"Logging started.\\n\")\n",
    "    f.write(\"Everything is going smoothly!\\n\")"
   ]
  },
  {
   "cell_type": "code",
   "execution_count": 8,
   "id": "5bfd26ec",
   "metadata": {},
   "outputs": [
    {
     "name": "stdout",
     "output_type": "stream",
     "text": [
      "[2025-06-17 19:20:20] Opening file 'logfile.txt' in 'a' mode.\n",
      "[2025-06-17 19:20:20] Mode: Appending to file\n",
      "[2025-06-17 19:20:20] Closed file 'logfile.txt'.\n",
      "[2025-06-17 19:20:20] An error occurred: oops error occured\n"
     ]
    }
   ],
   "source": [
    "with SafeFileHandler(\"logfile.txt\",\"a\",suppress_errors=True) as f:\n",
    "    f.write(\"trying error fetch\")\n",
    "    raise ValueError(\"oops error occured\")\n",
    "    f.write(\"this wont reach\")\n"
   ]
  },
  {
   "cell_type": "code",
   "execution_count": null,
   "id": "fa586ae5",
   "metadata": {},
   "outputs": [],
   "source": []
  }
 ],
 "metadata": {
  "kernelspec": {
   "display_name": "base",
   "language": "python",
   "name": "python3"
  },
  "language_info": {
   "codemirror_mode": {
    "name": "ipython",
    "version": 3
   },
   "file_extension": ".py",
   "mimetype": "text/x-python",
   "name": "python",
   "nbconvert_exporter": "python",
   "pygments_lexer": "ipython3",
   "version": "3.12.9"
  }
 },
 "nbformat": 4,
 "nbformat_minor": 5
}
