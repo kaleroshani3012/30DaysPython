{
 "cells": [
  {
   "cell_type": "markdown",
   "id": "1f4e3ce7",
   "metadata": {},
   "source": [
    "- **Day 1️⃣4️⃣**: **Recursion**\n",
    "    \n",
    "    🎯 **Challenge**\n",
    "    - Calculate factorial recursively"
   ]
  },
  {
   "cell_type": "code",
   "execution_count": 8,
   "id": "512ebf18",
   "metadata": {},
   "outputs": [
    {
     "name": "stdout",
     "output_type": "stream",
     "text": [
      "Factorial of 1 is 1\n"
     ]
    }
   ],
   "source": [
    "def factorial(num):\n",
    "\n",
    "    if num <  0:\n",
    "        return \"Factorial Does not Exist\"\n",
    "\n",
    "    elif num == 0:\n",
    "        return 1\n",
    "    else:\n",
    "\n",
    "        factorial = 1\n",
    "        for i in range(1,num+1):\n",
    "\n",
    "            factorial*=i\n",
    "\n",
    "        return factorial\n",
    "    \n",
    "fact_num = int(input(\"Enter Number: \"))\n",
    "result = factorial(fact_num)\n",
    "\n",
    "print(f\"Factorial of {fact_num} is {result}\")\n"
   ]
  },
  {
   "cell_type": "code",
   "execution_count": 5,
   "id": "4624cc3c",
   "metadata": {},
   "outputs": [
    {
     "name": "stdout",
     "output_type": "stream",
     "text": [
      "Factorial of 5 is 120\n"
     ]
    }
   ],
   "source": [
    "def factorial(num):\n",
    "\n",
    "    if num < 0:\n",
    "        return \"Factorial does not exist for Negavtive Number\"\n",
    "    \n",
    "    elif num == 0 or num == 1:\n",
    "        return 1\n",
    "    \n",
    "    else:\n",
    "        return num*factorial(num-1)\n",
    "    \n",
    "fact_num = int(input(\"Enter Number: \"))\n",
    "result = factorial(fact_num)\n",
    "\n",
    "print(f\"Factorial of {fact_num} is {result}\")"
   ]
  }
 ],
 "metadata": {
  "kernelspec": {
   "display_name": "base",
   "language": "python",
   "name": "python3"
  },
  "language_info": {
   "codemirror_mode": {
    "name": "ipython",
    "version": 3
   },
   "file_extension": ".py",
   "mimetype": "text/x-python",
   "name": "python",
   "nbconvert_exporter": "python",
   "pygments_lexer": "ipython3",
   "version": "3.12.9"
  }
 },
 "nbformat": 4,
 "nbformat_minor": 5
}
