{
 "cells": [
  {
   "cell_type": "markdown",
   "id": "591ee5bd",
   "metadata": {},
   "source": [
    "- **Day 1️⃣0️⃣**: **Exception Handling**\n",
    "    \n",
    "    🎯 **Challenge**\n",
    "    - Read numbers from a file and handle errors gracefully"
   ]
  },
  {
   "cell_type": "code",
   "execution_count": 1,
   "id": "f48bed43",
   "metadata": {},
   "outputs": [],
   "source": [
    "def create_file(number):\n",
    "\n",
    "    with open(number, \"w\") as f:\n",
    "\n",
    "        f.write(\"10\\n\")\n",
    "        f.write(\"hello\\n\")\n",
    "        f.write(\"  90.99\\n\")\n",
    "        f.write(\"89roshh\\n\")\n",
    "        f.write(\"30\\n\")\n",
    "        f.write(\"56.66\\n\")\n",
    "\n",
    "        print(f\"\\n-------Hey Roshhh, '{number}' file created-------\")"
   ]
  },
  {
   "cell_type": "code",
   "execution_count": 2,
   "id": "5c67a6bf",
   "metadata": {},
   "outputs": [],
   "source": [
    "def read_process_file(number):\n",
    "    total = 0 \n",
    "    valid_numbers =[]\n",
    "    invalid_count =0\n",
    "    try:\n",
    "\n",
    "        with open(number,\"r\") as file:\n",
    "\n",
    "            for line in file:\n",
    "                cleaned = line.strip()\n",
    "\n",
    "                try:\n",
    "                    num = float(cleaned)\n",
    "                    total+=num\n",
    "                    valid_numbers.append(str(num))\n",
    "                \n",
    "                except ValueError:\n",
    "                    invalid_count+=1\n",
    "\n",
    "                    with open(\"error.txt\",\"a\") as error_file:\n",
    "\n",
    "                        error_file.write(f\"Invalid Line {cleaned}\\n\")\n",
    "                    print(f\"\\nSkipped Invalid Line : '{cleaned}'\")\n",
    "\n",
    "        #save valid no to file\n",
    "\n",
    "        with open(\"valid_number.txt\", \"w\") as valid_line:\n",
    "            \n",
    "            valid_line.write(\"\\n\".join(valid_numbers))\n",
    "\n",
    "    except FileNotFoundError:\n",
    "\n",
    "        print(\"***File Not Found*** \\n\\nCreating Sample File for you! \")\n",
    "        create_file(number)\n",
    "        return read_process_file(number)\n",
    "\n",
    "\n",
    "    finally:\n",
    "\n",
    "        print(\"\\n****Finished Processing a File****\")\n",
    "    \n",
    "    return total, invalid_count\n",
    "\n",
    "\n",
    "\n"
   ]
  },
  {
   "cell_type": "code",
   "execution_count": 3,
   "id": "fc61f2a6",
   "metadata": {},
   "outputs": [
    {
     "name": "stdout",
     "output_type": "stream",
     "text": [
      "***File Not Found*** \n",
      "\n",
      "Creating Sample File for you! \n",
      "\n",
      "-------Hey Roshhh, 'numbers' file created-------\n",
      "\n",
      "Skipped Invalid Line : 'hello'\n",
      "\n",
      "Skipped Invalid Line : '89roshh'\n",
      "\n",
      "****Finished Processing a File****\n",
      "\n",
      "****Finished Processing a File****\n",
      "\n",
      "Total Sum of Valid Numbers: '187.65'\n",
      "\n",
      "Total InValid Lines: '2'\n",
      "\n",
      "Valid Numbers Saved --> 'Valid.txt'\n",
      "\n",
      "Erros logged to --> erros.txt'\n"
     ]
    }
   ],
   "source": [
    "number = input(\"Enter Filename(e.g : numbers.txt) : \")\n",
    "sum_of_num , invalid_line =read_process_file(number)\n",
    "\n",
    "print(f\"\\nTotal Sum of Valid Numbers: '{sum_of_num}'\")\n",
    "print(f\"\\nTotal InValid Lines: '{invalid_line}'\")\n",
    "print(\"\\nValid Numbers Saved --> 'Valid.txt'\")\n",
    "print(\"\\nErros logged to --> erros.txt'\")"
   ]
  },
  {
   "cell_type": "code",
   "execution_count": null,
   "id": "7da89d5a",
   "metadata": {},
   "outputs": [],
   "source": []
  }
 ],
 "metadata": {
  "kernelspec": {
   "display_name": "base",
   "language": "python",
   "name": "python3"
  },
  "language_info": {
   "codemirror_mode": {
    "name": "ipython",
    "version": 3
   },
   "file_extension": ".py",
   "mimetype": "text/x-python",
   "name": "python",
   "nbconvert_exporter": "python",
   "pygments_lexer": "ipython3",
   "version": "3.12.9"
  }
 },
 "nbformat": 4,
 "nbformat_minor": 5
}
