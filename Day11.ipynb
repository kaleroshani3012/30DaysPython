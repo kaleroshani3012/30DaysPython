{
 "cells": [
  {
   "cell_type": "markdown",
   "id": "e84c2ffe",
   "metadata": {},
   "source": [
    "- **Day 1️⃣1️⃣**: **Working with Dates and Times**\n",
    "    \n",
    "    🎯 **Challenge**\n",
    "    - Calculate the days between two dates"
   ]
  },
  {
   "cell_type": "code",
   "execution_count": 18,
   "id": "0f00d3dd",
   "metadata": {},
   "outputs": [],
   "source": [
    "from datetime import datetime, date\n",
    "from colorama import init, Fore, Style\n",
    "\n",
    "\n",
    "#initialize colorama\n",
    "init(autoreset= True)\n",
    "\n",
    "def cal_days_left(event_date, target_date_str):\n",
    "    try:\n",
    "\n",
    "        target_date = datetime.strptime(target_date_str, \"%Y-%m-%d\").date()\n",
    "        today = date.today()\n",
    "\n",
    "        days_left = (target_date - today).days\n",
    "        return event_date, target_date, days_left\n",
    "\n",
    "    except ValueError:\n",
    "        print(f\"Invalid date format for '{event_date}' , use 'yyyy-mm-dd'\")\n",
    "        return None"
   ]
  },
  {
   "cell_type": "code",
   "execution_count": 21,
   "id": "ff307411",
   "metadata": {},
   "outputs": [
    {
     "name": "stdout",
     "output_type": "stream",
     "text": [
      "Enter Your Task and their respective Dates\n",
      "*****Type 'Done' when Finished*****\n",
      "Invalid date format for 'Da_interview' , use 'yyyy-mm-dd'\n",
      "\n",
      "Task Sorted by Priorities\n",
      "1.Submission (2025-06-10) -> 1 days left \n",
      "2.Practical_Exam (2025-06-15) -> 6 days left \n",
      "3.Final_Exam (2025-06-30) -> 21 days left \n",
      "4.Interview (2025-07-15) -> 36 days left \n",
      "\n",
      "Yay! Task Summary Saved in task_summary file succesfully\n"
     ]
    }
   ],
   "source": [
    "def main():\n",
    "\n",
    "    print(\"Enter Your Task and their respective Dates\")\n",
    "    print(\"*****Type 'Done' when Finished*****\")\n",
    "\n",
    "    tasks =[]\n",
    "\n",
    "    while True:\n",
    "\n",
    "        event = input(\"Enter Event Name: \")\n",
    "        if event.lower() == \"done\":\n",
    "            break\n",
    "\n",
    "        date_str = input(\"Enter Event Date for {event} in 'YYYY-MM-DD' format: \")\n",
    "\n",
    "        result = cal_days_left(event,date_str)\n",
    "\n",
    "        if result:\n",
    "            tasks.append(result)\n",
    "\n",
    "    if not tasks:\n",
    "        print(\"No Task Entered !!!\")\n",
    "        return\n",
    "    \n",
    "\n",
    "    #task sort by days left \n",
    "\n",
    "    tasks.sort(key=lambda x : x[2])\n",
    "\n",
    "    output=[]\n",
    "\n",
    "    print(\"\\nTask Sorted by Priorities\")\n",
    "    output.append(\"Task sorted by priorities\")\n",
    "\n",
    "    for i, (event, target_date, days_left) in enumerate(tasks,1):\n",
    "\n",
    "        if days_left>0:\n",
    "            line = f\"{i}.{event} ({target_date}) -> {days_left} days left \"\n",
    "            colorline = (Fore.RED + line  if days_left<=7 else line)\n",
    "\n",
    "        elif days_left == 0:\n",
    "            line = f\"{i}. {event} ({target_date}) -> Today is the day \"\n",
    "            colorline = (Fore.RED + line)\n",
    "\n",
    "        else:\n",
    "            line = f\"{i}.{event} ({target_date}) -> oops Already passed ({abs(days_left)} days ago)\"\n",
    "            colorline = Fore.LIGHTBLACK_EX + line\n",
    "\n",
    "        print(colorline)\n",
    "        output.append(line)\n",
    "\n",
    "    \n",
    "    #task save\n",
    "\n",
    "    with open(\"task_summary.txt\", \"w\") as f:\n",
    "        for line in output:\n",
    "            f.write(line + \"\\n\")\n",
    "\n",
    "    print(\"\\nYay! Task Summary Saved in task_summary file succesfully\")\n",
    "\n",
    "\n",
    "if __name__ == \"__main__\":\n",
    "    main()"
   ]
  },
  {
   "cell_type": "code",
   "execution_count": null,
   "id": "0dacb04f",
   "metadata": {},
   "outputs": [],
   "source": [
    "\n"
   ]
  }
 ],
 "metadata": {
  "kernelspec": {
   "display_name": "base",
   "language": "python",
   "name": "python3"
  },
  "language_info": {
   "codemirror_mode": {
    "name": "ipython",
    "version": 3
   },
   "file_extension": ".py",
   "mimetype": "text/x-python",
   "name": "python",
   "nbconvert_exporter": "python",
   "pygments_lexer": "ipython3",
   "version": "3.12.9"
  }
 },
 "nbformat": 4,
 "nbformat_minor": 5
}
