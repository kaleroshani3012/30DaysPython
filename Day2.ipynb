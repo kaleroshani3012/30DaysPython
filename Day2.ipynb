{
 "cells": [
  {
   "cell_type": "markdown",
   "id": "1c179a6b",
   "metadata": {},
   "source": [
    "### **Day 0️⃣2️⃣: Variables and Data Types**\n",
    "\n",
    "    🗒️ Topics: \n",
    "\n",
    "    - Integers, floats, strings, booleans, type conversion\n",
    "\n",
    "🎯 Challenge\n",
    "- Calculate the area of a rectangle using user-input length and width"
   ]
  },
  {
   "cell_type": "markdown",
   "id": "ef41f465",
   "metadata": {},
   "source": [
    "### Variables\n",
    "- Variables are fundamental elements in programming used to store data that can be referenced and manipulated in a program.\n",
    "- In Python, variables are created when you assign a value to them, and they do not need explicit declaration to reserve memory space. \n",
    "- The declaration happens automatically when you assign a value to a variable.\n"
   ]
  },
  {
   "cell_type": "code",
   "execution_count": 2,
   "id": "ecf8d8e8",
   "metadata": {},
   "outputs": [
    {
     "name": "stdout",
     "output_type": "stream",
     "text": [
      "age is:  18\n",
      "Name is:  Roshani\n",
      "Height is:  5.5\n"
     ]
    }
   ],
   "source": [
    "age = 18\n",
    "name = \"Roshani\"\n",
    "Height = \"5.5\"\n",
    "print(\"age is: \",age)\n",
    "print(\"Name is: \",name)\n",
    "print(\"Height is: \",Height)"
   ]
  },
  {
   "cell_type": "markdown",
   "id": "35849dda",
   "metadata": {},
   "source": [
    "#### Naming Conventions\n",
    "- Variable names should be descriptive\n",
    "- They must start with a letter or an '_' and contains letter,numbers and underscores\n",
    "- variables names case sensitive"
   ]
  },
  {
   "cell_type": "markdown",
   "id": "5738fd40",
   "metadata": {},
   "source": []
  },
  {
   "cell_type": "code",
   "execution_count": null,
   "id": "884eac77",
   "metadata": {},
   "outputs": [
    {
     "name": "stdout",
     "output_type": "stream",
     "text": [
      "Roshani Kale\n"
     ]
    }
   ],
   "source": [
    "## valid variable names\n",
    "\n",
    "first_name=\"Roshani\"\n",
    "_lastname=\"Kale\"\n",
    "print(first_name,_lastname)"
   ]
  },
  {
   "cell_type": "code",
   "execution_count": 5,
   "id": "0d90e0fb",
   "metadata": {},
   "outputs": [],
   "source": [
    "## Invalid variable names\n",
    "\n",
    "#   2age=30\n",
    "#   first-name=\"Rosh\"\n",
    "##  @name=\"Kale\""
   ]
  },
  {
   "cell_type": "code",
   "execution_count": 32,
   "id": "07e154d6",
   "metadata": {},
   "outputs": [
    {
     "data": {
      "text/plain": [
       "False"
      ]
     },
     "execution_count": 32,
     "metadata": {},
     "output_type": "execute_result"
    }
   ],
   "source": [
    "#case sensitivity \n",
    "name = \"roshani\"\n",
    "Name = \"Kale\"\n",
    "name==Name\n",
    "\n",
    "#it gives output as false because for python these above variables are different even though its meaning same"
   ]
  },
  {
   "cell_type": "code",
   "execution_count": 33,
   "id": "e55be78f",
   "metadata": {},
   "outputs": [
    {
     "name": "stdout",
     "output_type": "stream",
     "text": [
      "77 rooosh\n",
      "type of variable age is:  <class 'int'> \n",
      "type of variable name is:  <class 'str'> \n",
      "type of variable weight is:  <class 'float'> \n",
      "type of variable is_student is:  <class 'bool'>\n"
     ]
    }
   ],
   "source": [
    "## Understnading Variable types\n",
    "## Python is dynamically typed,type of a variable is determined at runtime\n",
    "\n",
    "age = 77 #int\n",
    "name = \"rooosh\" #string\n",
    "weight = 55.65 #float\n",
    "is_student = False #bool\n",
    "print(age,name)\n",
    "print(\"type of variable age is: \",type(age), \"\\ntype of variable name is: \",type(name), \n",
    "      \"\\ntype of variable weight is: \",type(weight), \"\\ntype of variable is_student is: \",type(is_student))"
   ]
  },
  {
   "cell_type": "markdown",
   "id": "59152675",
   "metadata": {},
   "source": [
    "## Type Checking and Conversion"
   ]
  },
  {
   "cell_type": "code",
   "execution_count": 20,
   "id": "1b243c48",
   "metadata": {},
   "outputs": [
    {
     "name": "stdout",
     "output_type": "stream",
     "text": [
      "Height is:  6.5 \n",
      "type of Height before conversion is:  <class 'float'>\n",
      "Height is:  6.5 \n",
      "type of Height after conversion is:  <class 'int'>\n"
     ]
    }
   ],
   "source": [
    "Height = 6.5\n",
    "\n",
    "print(\"Height is: \",Height,\"\\ntype of Height before conversion is: \",type(Height))\n",
    "\n",
    "#now we want to convert Height into integer\n",
    "print(\"Height is: \",Height,\"\\ntype of Height after conversion is: \",type(int(Height)))\n"
   ]
  },
  {
   "cell_type": "code",
   "execution_count": 18,
   "id": "5d35c121",
   "metadata": {},
   "outputs": [
    {
     "name": "stdout",
     "output_type": "stream",
     "text": [
      "age is:  34 \n",
      "type of age before conversion is:  <class 'int'>\n",
      "age is:  34 \n",
      "type of age after conversion is:  <class 'str'>\n"
     ]
    }
   ],
   "source": [
    "age = 34\n",
    "print(\"age is: \",age,\"\\ntype of age before conversion is: \",type(age))\n",
    "\n",
    "# now we want to convert age into string\n",
    "print(\"age is: \",age,\"\\ntype of age after conversion is: \",type(str(age)))\n"
   ]
  },
  {
   "cell_type": "code",
   "execution_count": 25,
   "id": "1c6f257a",
   "metadata": {},
   "outputs": [
    {
     "name": "stdout",
     "output_type": "stream",
     "text": [
      "<class 'float'>\n",
      "60\n",
      "60.0\n"
     ]
    }
   ],
   "source": [
    "Weight = 60.66\n",
    "print(type(Weight))\n",
    "\n",
    "#now we want to convert into int\n",
    "print((int(Weight)))\n",
    "\n",
    "#we want in decimal but whole integer value\n",
    "print(float(int(Weight)))"
   ]
  },
  {
   "cell_type": "code",
   "execution_count": 38,
   "id": "2b3d6597",
   "metadata": {},
   "outputs": [
    {
     "name": "stdout",
     "output_type": "stream",
     "text": [
      "<class 'str'>\n",
      "<class 'int'>\n"
     ]
    }
   ],
   "source": [
    "#now if i want to change numerical value define in string its possible\n",
    "age = \"24\"\n",
    "print(type(age))\n",
    "print(type(int(age)))"
   ]
  },
  {
   "cell_type": "code",
   "execution_count": 26,
   "id": "5029cb4e",
   "metadata": {},
   "outputs": [
    {
     "ename": "ValueError",
     "evalue": "invalid literal for int() with base 10: 'rosh'",
     "output_type": "error",
     "traceback": [
      "\u001b[31m---------------------------------------------------------------------------\u001b[39m",
      "\u001b[31mValueError\u001b[39m                                Traceback (most recent call last)",
      "\u001b[36mCell\u001b[39m\u001b[36m \u001b[39m\u001b[32mIn[26]\u001b[39m\u001b[32m, line 3\u001b[39m\n\u001b[32m      1\u001b[39m \u001b[38;5;66;03m#but we cant convert string into any data type\u001b[39;00m\n\u001b[32m      2\u001b[39m name = \u001b[33m\"\u001b[39m\u001b[33mrosh\u001b[39m\u001b[33m\"\u001b[39m\n\u001b[32m----> \u001b[39m\u001b[32m3\u001b[39m \u001b[38;5;28mprint\u001b[39m(\u001b[38;5;28mint\u001b[39m(name))\n",
      "\u001b[31mValueError\u001b[39m: invalid literal for int() with base 10: 'rosh'"
     ]
    }
   ],
   "source": [
    "#but we cant convert string into any data type\n",
    "name = \"rosh\"\n",
    "print(int(name))"
   ]
  },
  {
   "cell_type": "markdown",
   "id": "8b39935f",
   "metadata": {},
   "source": [
    "#### Dynamic Typing\n",
    "- Python allows the type of a variable to change as the program executes"
   ]
  },
  {
   "cell_type": "code",
   "execution_count": null,
   "id": "5aea12ab",
   "metadata": {},
   "outputs": [
    {
     "name": "stdout",
     "output_type": "stream",
     "text": [
      "10 <class 'int'>\n",
      "Hello <class 'str'>\n",
      "3.14 <class 'float'>\n"
     ]
    }
   ],
   "source": [
    "#having same variable name but different value \n",
    "\n",
    "var=10 #int\n",
    "print(var,type(var))\n",
    "\n",
    "var=\"Hello\" #string\n",
    "print(var,type(var))\n",
    "\n",
    "var=3.14 #float\n",
    "print(var,type(var))"
   ]
  },
  {
   "cell_type": "markdown",
   "id": "6d5b7cba",
   "metadata": {},
   "source": [
    "##### Simple program of calculator "
   ]
  },
  {
   "cell_type": "code",
   "execution_count": 30,
   "id": "46ecc174",
   "metadata": {},
   "outputs": [
    {
     "name": "stdout",
     "output_type": "stream",
     "text": [
      "First Number : 12.0 \n",
      " Second Number :  45.0\n",
      "Summation of  12.0 & 45.0 is:  57.0\n",
      "Difference of  12.0 & 45.0 is:  -33.0\n",
      "Product of  12.0 & 45.0 is:  540.0\n",
      "Quotient of  12.0 & 45.0 is:  0.26666666666666666\n"
     ]
    }
   ],
   "source": [
    "num1 = float(input(\"Enter First Number\"))\n",
    "num2 = float(input(\"Enter Second Number\"))\n",
    "print(\"First Number :\",num1,\"\\n Second Number : \",num2)\n",
    "sum = num1 + num2\n",
    "difference = num1 - num2\n",
    "product = num1 * num2\n",
    "quotient = num1 / num2\n",
    "\n",
    "print(\"Summation of \",num1, \"&\", num2, \"is: \",sum)\n",
    "print(\"Difference of \",num1, \"&\", num2, \"is: \",difference)\n",
    "print(\"Product of \",num1, \"&\", num2, \"is: \",product)\n",
    "print(\"Quotient of \",num1, \"&\", num2, \"is: \",quotient)"
   ]
  },
  {
   "cell_type": "markdown",
   "id": "43a4d6c4",
   "metadata": {},
   "source": [
    "## Data Types\n",
    "1. Definition:\n",
    "- Data types are a classification of data which tell the compiler or interpreter how the programmer intends to use the data.\n",
    "- They determine the type of operations that can be performed on the data, the values that the data can take, and the amount of memory needed to store the data.\n",
    "\n",
    "2. Importance of Data Types in Programming\n",
    "- Data types ensure that data is stored in an efficient way.\n",
    "- They help in performing correct operations on data.\n",
    "- Proper use of data types can prevent errors and bugs in the program."
   ]
  },
  {
   "cell_type": "code",
   "execution_count": null,
   "id": "3b83c337",
   "metadata": {},
   "outputs": [],
   "source": []
  },
  {
   "cell_type": "markdown",
   "id": "1f039111",
   "metadata": {},
   "source": [
    "\n",
    "🎯 Challenge\n",
    "- Calculate the area of a rectangle using user-input length and width"
   ]
  },
  {
   "cell_type": "code",
   "execution_count": 46,
   "id": "d0706310",
   "metadata": {},
   "outputs": [
    {
     "name": "stdout",
     "output_type": "stream",
     "text": [
      "declared length is: 3.0 m \n",
      "declared width is: 4.0 m\n",
      "Area of Rectangle is: 12.0 sqm\n"
     ]
    }
   ],
   "source": [
    "length = float(input(\"Enter Length: \"))\n",
    "width = float(input(\"Enter Width: \"))\n",
    "\n",
    "print(f\"declared length is: {length} m \\ndeclared width is: {width} m\")\n",
    "\n",
    "area_of_rectangle = length * width\n",
    "\n",
    "print(f\"Area of Rectangle is: {area_of_rectangle} sqm\")\n"
   ]
  },
  {
   "cell_type": "markdown",
   "id": "00016b5f",
   "metadata": {},
   "source": [
    "🎯 Challenge\n",
    "- Calculate the area of a rectangle using user-input length and width"
   ]
  },
  {
   "cell_type": "code",
   "execution_count": 47,
   "id": "723bebb3",
   "metadata": {},
   "outputs": [
    {
     "name": "stdout",
     "output_type": "stream",
     "text": [
      "Define Length is: 12.0 m \n",
      "Define Width is: 12.0\n",
      "Area of Rectangle is: 144.0 sqm\n"
     ]
    }
   ],
   "source": [
    "length = float(input(\"Enter Length: \"))\n",
    "width = float(input(\"Enter width: \"))\n",
    "\n",
    "print(f\"Define Length is: {length} m \\nDefine Width is: {width}\")\n",
    "\n",
    "Area_of_Rectangle = length * width\n",
    "\n",
    "print(f\"Area of Rectangle is: {Area_of_Rectangle} sqm\")"
   ]
  },
  {
   "cell_type": "code",
   "execution_count": 50,
   "id": "8dcbda6d",
   "metadata": {},
   "outputs": [
    {
     "name": "stdout",
     "output_type": "stream",
     "text": [
      "Area of Rectangle is: 20.0 sqm\n"
     ]
    }
   ],
   "source": [
    "#Area of Rectangle using function\n",
    "\n",
    "def Area_Rectangle(length,width):\n",
    "\n",
    "    return length*width\n",
    "\n",
    "length = float(input(\"Enter Length: \"))\n",
    "width = float(input(\"Enter width: \")) \n",
    "\n",
    "area= Area_Rectangle(length,width)\n",
    "\n",
    "print(f\"Area of Rectangle is: {area} sqm\")"
   ]
  },
  {
   "cell_type": "code",
   "execution_count": null,
   "id": "7277ab07",
   "metadata": {},
   "outputs": [],
   "source": []
  }
 ],
 "metadata": {
  "kernelspec": {
   "display_name": "Python 3",
   "language": "python",
   "name": "python3"
  },
  "language_info": {
   "codemirror_mode": {
    "name": "ipython",
    "version": 3
   },
   "file_extension": ".py",
   "mimetype": "text/x-python",
   "name": "python",
   "nbconvert_exporter": "python",
   "pygments_lexer": "ipython3",
   "version": "3.12.9"
  }
 },
 "nbformat": 4,
 "nbformat_minor": 5
}
