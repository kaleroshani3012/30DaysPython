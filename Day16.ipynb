{
 "cells": [
  {
   "cell_type": "markdown",
   "id": "5fc26f10",
   "metadata": {},
   "source": [
    "- **Day 1️⃣6️⃣**: **Generators and Iterators**\n",
    "  \n",
    "    🎯 **Challenge**\n",
    "    -  Generate the first n Fibonacci numbers with a generator"
   ]
  },
  {
   "cell_type": "code",
   "execution_count": 2,
   "id": "9997cbc1",
   "metadata": {},
   "outputs": [
    {
     "name": "stdout",
     "output_type": "stream",
     "text": [
      "First 10 Fibonacci Numbers\n",
      "0 1 1 2 3 5 8 13 21 34 "
     ]
    }
   ],
   "source": [
    "def fibonacci(n):\n",
    "\n",
    "    a,b = 0,1\n",
    "    count = 0\n",
    "\n",
    "    while count < n:\n",
    "\n",
    "        yield a\n",
    "\n",
    "        a,b = b, a+b\n",
    "        count+=1\n",
    "\n",
    "try:\n",
    "    n = int(input(\"Enter a Number to generate Fibonacci Series\"))\n",
    "    print(f\"First {n} Fibonacci Numbers\")\n",
    "    for i in fibonacci(n):\n",
    "        print(i, end=\" \")\n",
    "except ValueError:\n",
    "    print(\"Please, Enter Valid Number\")\n"
   ]
  },
  {
   "cell_type": "code",
   "execution_count": null,
   "id": "3ea9dbaa",
   "metadata": {},
   "outputs": [],
   "source": []
  }
 ],
 "metadata": {
  "kernelspec": {
   "display_name": "base",
   "language": "python",
   "name": "python3"
  },
  "language_info": {
   "codemirror_mode": {
    "name": "ipython",
    "version": 3
   },
   "file_extension": ".py",
   "mimetype": "text/x-python",
   "name": "python",
   "nbconvert_exporter": "python",
   "pygments_lexer": "ipython3",
   "version": "3.12.9"
  }
 },
 "nbformat": 4,
 "nbformat_minor": 5
}
